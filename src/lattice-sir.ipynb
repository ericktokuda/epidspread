{
 "cells": [
  {
   "cell_type": "code",
   "execution_count": 5,
   "metadata": {},
   "outputs": [],
   "source": [
    "import igraph\n",
    "import networkx as nx\n",
    "import numpy as np\n",
    "import pandas as pd"
   ]
  },
  {
   "cell_type": "code",
   "execution_count": 13,
   "metadata": {},
   "outputs": [
    {
     "data": {
      "text/plain": [
       "<function igraph.write(graph, filename, *args, **kwds)>"
      ]
     },
     "execution_count": 13,
     "metadata": {},
     "output_type": "execute_result"
    }
   ],
   "source": [
    "dim = [2, 4]\n",
    "g = igraph.Graph.Lattice(dim, nei=1, directed=False, mutual=True, circular=True)\n",
    "for v in g.vs: \n",
    "    r = np.random.rand() \n",
    "    v['nparticles'] = round(r*10)\n",
    "    mycolor = list([0,0,r])\n",
    "    v['color'] = mycolor\n",
    "    \n",
    "visual = {}\n",
    "# visual[\"layout\"] = g.layout('grid')\n",
    "visual[\"bbox\"] = (200, 200)\n",
    "visual[\"margin\"] = 10\n",
    "igraph.plot(g, **visual)"
   ]
  },
  {
   "cell_type": "code",
   "execution_count": 103,
   "metadata": {},
   "outputs": [
    {
     "ename": "IndentationError",
     "evalue": "expected an indented block (<ipython-input-103-6294b112424d>, line 38)",
     "output_type": "error",
     "traceback": [
      "\u001b[0;36m  File \u001b[0;32m\"<ipython-input-103-6294b112424d>\"\u001b[0;36m, line \u001b[0;32m38\u001b[0m\n\u001b[0;31m    visual = {}\u001b[0m\n\u001b[0m               ^\u001b[0m\n\u001b[0;31mIndentationError\u001b[0m\u001b[0;31m:\u001b[0m expected an indented block\n"
     ]
    }
   ],
   "source": [
    "dim = [4, 4]\n",
    "g = igraph.Graph.Lattice(dim, nei=1, directed=False, mutual=True, circular=True)\n",
    "\n",
    "\n",
    "for v in g.vs:  # initialize all nodes with 10 particles\n",
    "    v['nparticles'] = 100\n",
    "\n",
    "    \n",
    "nepochs = 10\n",
    "\n",
    "############ set attractiviness\n",
    "g.vs['attractiviness'] = 5\n",
    "g.vs[1]['attractiviness'] = 1\n",
    "g.vs[3]['attractiviness'] = 25\n",
    "\n",
    "########### simulation\n",
    "for ep in range(nepochs):\n",
    "    allparticles = [ v['nparticles'] for v in g.vs ] # copy to avoid being altered\n",
    "    for i, v in enumerate(g.vs):\n",
    "        n = allparticles[i]\n",
    "        neighids = g.neighbors(i)\n",
    "        attractiviness = g.vs[neighids]['attractiviness']\n",
    "        attractiviness /= np.sum(attractiviness)\n",
    "\n",
    "        for p in range(n):\n",
    "            neighid = np.random.choice(neighids, p=attractiviness)\n",
    "            v['nparticles'] -= 1\n",
    "            g.vs[neighid]['nparticles'] += 1\n",
    "#             print(i, neighid, g.vs['nparticles'])\n",
    "\n",
    "#     for i, v in enumerate(g.vs): # dynamics loop\n",
    "        \n",
    "\n",
    "############ plot\n",
    "# for v in g.vs: \n",
    "#     v['color'] = [0, 0, v['nparticles']/10]\n",
    "    \n",
    "visual = {}\n",
    "# visual[\"layout\"] = g.layout('grid')\n",
    "visual[\"bbox\"] = (200, 200)\n",
    "visual[\"margin\"] = 10\n",
    "# labels = [str(v['nparticles']) for v in g.vs]\n",
    "igraph.plot(g, vertex_label=g.vs['nparticles'], **visual)"
   ]
  }
 ],
 "metadata": {
  "kernelspec": {
   "display_name": "Python 3",
   "language": "python",
   "name": "python3"
  },
  "language_info": {
   "codemirror_mode": {
    "name": "ipython",
    "version": 3
   },
   "file_extension": ".py",
   "mimetype": "text/x-python",
   "name": "python",
   "nbconvert_exporter": "python",
   "pygments_lexer": "ipython3",
   "version": "3.7.4"
  }
 },
 "nbformat": 4,
 "nbformat_minor": 2
}
